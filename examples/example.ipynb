{
  "cells": [
    {
      "cell_type": "markdown",
      "id": "b6c21d5e-6b45-4194-bb27-02b2d6035927",
      "metadata": {
        "id": "b6c21d5e-6b45-4194-bb27-02b2d6035927"
      },
      "source": [
        "\n",
        "# Examples for DEGANN\n",
        "\n",
        "This notebook demonstrates basic use cases for the **DEGANN** package."
      ]
    },
    {
      "cell_type": "code",
      "execution_count": 84,
      "id": "3612fecd-9bae-4025-a48a-7e935016ded8",
      "metadata": {
        "colab": {
          "base_uri": "https://localhost:8080/"
        },
        "id": "3612fecd-9bae-4025-a48a-7e935016ded8",
        "outputId": "cbb0f74d-8f65-44cc-cf94-d321f57f259a"
      },
      "outputs": [
        {
          "output_type": "stream",
          "name": "stdout",
          "text": [
            "Requirement already satisfied: degann in /usr/local/lib/python3.10/dist-packages (1.1.5)\n",
            "Requirement already satisfied: keras~=3.3.3 in /usr/local/lib/python3.10/dist-packages (from degann) (3.3.3)\n",
            "Requirement already satisfied: matplotlib~=3.7.1 in /usr/local/lib/python3.10/dist-packages (from degann) (3.7.1)\n",
            "Requirement already satisfied: numpy~=1.26.4 in /usr/local/lib/python3.10/dist-packages (from degann) (1.26.4)\n",
            "Requirement already satisfied: scipy~=1.13.1 in /usr/local/lib/python3.10/dist-packages (from degann) (1.13.1)\n",
            "Requirement already satisfied: tensorflow~=2.16.1 in /usr/local/lib/python3.10/dist-packages (from degann) (2.16.1)\n",
            "Requirement already satisfied: absl-py in /usr/local/lib/python3.10/dist-packages (from keras~=3.3.3->degann) (1.4.0)\n",
            "Requirement already satisfied: rich in /usr/local/lib/python3.10/dist-packages (from keras~=3.3.3->degann) (13.7.1)\n",
            "Requirement already satisfied: namex in /usr/local/lib/python3.10/dist-packages (from keras~=3.3.3->degann) (0.0.8)\n",
            "Requirement already satisfied: h5py in /usr/local/lib/python3.10/dist-packages (from keras~=3.3.3->degann) (3.11.0)\n",
            "Requirement already satisfied: optree in /usr/local/lib/python3.10/dist-packages (from keras~=3.3.3->degann) (0.11.0)\n",
            "Requirement already satisfied: ml-dtypes in /usr/local/lib/python3.10/dist-packages (from keras~=3.3.3->degann) (0.3.2)\n",
            "Requirement already satisfied: contourpy>=1.0.1 in /usr/local/lib/python3.10/dist-packages (from matplotlib~=3.7.1->degann) (1.2.1)\n",
            "Requirement already satisfied: cycler>=0.10 in /usr/local/lib/python3.10/dist-packages (from matplotlib~=3.7.1->degann) (0.12.1)\n",
            "Requirement already satisfied: fonttools>=4.22.0 in /usr/local/lib/python3.10/dist-packages (from matplotlib~=3.7.1->degann) (4.51.0)\n",
            "Requirement already satisfied: kiwisolver>=1.0.1 in /usr/local/lib/python3.10/dist-packages (from matplotlib~=3.7.1->degann) (1.4.5)\n",
            "Requirement already satisfied: packaging>=20.0 in /usr/local/lib/python3.10/dist-packages (from matplotlib~=3.7.1->degann) (24.0)\n",
            "Requirement already satisfied: pillow>=6.2.0 in /usr/local/lib/python3.10/dist-packages (from matplotlib~=3.7.1->degann) (9.4.0)\n",
            "Requirement already satisfied: pyparsing>=2.3.1 in /usr/local/lib/python3.10/dist-packages (from matplotlib~=3.7.1->degann) (3.1.2)\n",
            "Requirement already satisfied: python-dateutil>=2.7 in /usr/local/lib/python3.10/dist-packages (from matplotlib~=3.7.1->degann) (2.8.2)\n",
            "Requirement already satisfied: astunparse>=1.6.0 in /usr/local/lib/python3.10/dist-packages (from tensorflow~=2.16.1->degann) (1.6.3)\n",
            "Requirement already satisfied: flatbuffers>=23.5.26 in /usr/local/lib/python3.10/dist-packages (from tensorflow~=2.16.1->degann) (24.3.25)\n",
            "Requirement already satisfied: gast!=0.5.0,!=0.5.1,!=0.5.2,>=0.2.1 in /usr/local/lib/python3.10/dist-packages (from tensorflow~=2.16.1->degann) (0.5.4)\n",
            "Requirement already satisfied: google-pasta>=0.1.1 in /usr/local/lib/python3.10/dist-packages (from tensorflow~=2.16.1->degann) (0.2.0)\n",
            "Requirement already satisfied: libclang>=13.0.0 in /usr/local/lib/python3.10/dist-packages (from tensorflow~=2.16.1->degann) (18.1.1)\n",
            "Requirement already satisfied: opt-einsum>=2.3.2 in /usr/local/lib/python3.10/dist-packages (from tensorflow~=2.16.1->degann) (3.3.0)\n",
            "Requirement already satisfied: protobuf!=4.21.0,!=4.21.1,!=4.21.2,!=4.21.3,!=4.21.4,!=4.21.5,<5.0.0dev,>=3.20.3 in /usr/local/lib/python3.10/dist-packages (from tensorflow~=2.16.1->degann) (3.20.3)\n",
            "Requirement already satisfied: requests<3,>=2.21.0 in /usr/local/lib/python3.10/dist-packages (from tensorflow~=2.16.1->degann) (2.31.0)\n",
            "Requirement already satisfied: setuptools in /usr/local/lib/python3.10/dist-packages (from tensorflow~=2.16.1->degann) (67.7.2)\n",
            "Requirement already satisfied: six>=1.12.0 in /usr/local/lib/python3.10/dist-packages (from tensorflow~=2.16.1->degann) (1.16.0)\n",
            "Requirement already satisfied: termcolor>=1.1.0 in /usr/local/lib/python3.10/dist-packages (from tensorflow~=2.16.1->degann) (2.4.0)\n",
            "Requirement already satisfied: typing-extensions>=3.6.6 in /usr/local/lib/python3.10/dist-packages (from tensorflow~=2.16.1->degann) (4.11.0)\n",
            "Requirement already satisfied: wrapt>=1.11.0 in /usr/local/lib/python3.10/dist-packages (from tensorflow~=2.16.1->degann) (1.14.1)\n",
            "Requirement already satisfied: grpcio<2.0,>=1.24.3 in /usr/local/lib/python3.10/dist-packages (from tensorflow~=2.16.1->degann) (1.64.0)\n",
            "Requirement already satisfied: tensorboard<2.17,>=2.16 in /usr/local/lib/python3.10/dist-packages (from tensorflow~=2.16.1->degann) (2.16.2)\n",
            "Requirement already satisfied: tensorflow-io-gcs-filesystem>=0.23.1 in /usr/local/lib/python3.10/dist-packages (from tensorflow~=2.16.1->degann) (0.37.0)\n",
            "Requirement already satisfied: wheel<1.0,>=0.23.0 in /usr/local/lib/python3.10/dist-packages (from astunparse>=1.6.0->tensorflow~=2.16.1->degann) (0.43.0)\n",
            "Requirement already satisfied: charset-normalizer<4,>=2 in /usr/local/lib/python3.10/dist-packages (from requests<3,>=2.21.0->tensorflow~=2.16.1->degann) (3.3.2)\n",
            "Requirement already satisfied: idna<4,>=2.5 in /usr/local/lib/python3.10/dist-packages (from requests<3,>=2.21.0->tensorflow~=2.16.1->degann) (3.7)\n",
            "Requirement already satisfied: urllib3<3,>=1.21.1 in /usr/local/lib/python3.10/dist-packages (from requests<3,>=2.21.0->tensorflow~=2.16.1->degann) (2.0.7)\n",
            "Requirement already satisfied: certifi>=2017.4.17 in /usr/local/lib/python3.10/dist-packages (from requests<3,>=2.21.0->tensorflow~=2.16.1->degann) (2024.2.2)\n",
            "Requirement already satisfied: markdown>=2.6.8 in /usr/local/lib/python3.10/dist-packages (from tensorboard<2.17,>=2.16->tensorflow~=2.16.1->degann) (3.6)\n",
            "Requirement already satisfied: tensorboard-data-server<0.8.0,>=0.7.0 in /usr/local/lib/python3.10/dist-packages (from tensorboard<2.17,>=2.16->tensorflow~=2.16.1->degann) (0.7.2)\n",
            "Requirement already satisfied: werkzeug>=1.0.1 in /usr/local/lib/python3.10/dist-packages (from tensorboard<2.17,>=2.16->tensorflow~=2.16.1->degann) (3.0.3)\n",
            "Requirement already satisfied: markdown-it-py>=2.2.0 in /usr/local/lib/python3.10/dist-packages (from rich->keras~=3.3.3->degann) (3.0.0)\n",
            "Requirement already satisfied: pygments<3.0.0,>=2.13.0 in /usr/local/lib/python3.10/dist-packages (from rich->keras~=3.3.3->degann) (2.16.1)\n",
            "Requirement already satisfied: mdurl~=0.1 in /usr/local/lib/python3.10/dist-packages (from markdown-it-py>=2.2.0->rich->keras~=3.3.3->degann) (0.1.2)\n",
            "Requirement already satisfied: MarkupSafe>=2.1.1 in /usr/local/lib/python3.10/dist-packages (from werkzeug>=1.0.1->tensorboard<2.17,>=2.16->tensorflow~=2.16.1->degann) (2.1.5)\n"
          ]
        }
      ],
      "source": [
        "# Install DEGANN\n",
        "\n",
        "!pip install degann"
      ]
    },
    {
      "cell_type": "code",
      "execution_count": 85,
      "id": "af48276b-b8fe-4f88-a346-f31c55bcdd34",
      "metadata": {
        "id": "af48276b-b8fe-4f88-a346-f31c55bcdd34"
      },
      "outputs": [],
      "source": [
        "import degann\n",
        "from degann.networks.imodel import IModel\n",
        "\n",
        "import numpy as np\n",
        "\n",
        "from random import randint"
      ]
    },
    {
      "cell_type": "code",
      "execution_count": 86,
      "id": "5d29595d-5efc-491e-b2bd-c66cdf7a02f2",
      "metadata": {
        "id": "5d29595d-5efc-491e-b2bd-c66cdf7a02f2"
      },
      "outputs": [],
      "source": [
        "# Prepare data for neural network training\n",
        "\n",
        "def f_3x2(x):\n",
        "    return 3*x**2\n",
        "\n",
        "\n",
        "data_size = 1000\n",
        "x_data = np.array([[i / data_size] for i in range(0, data_size + 1)])\n",
        "y_data = np.array([f_3x2(x) for x in x_data])\n",
        "\n",
        "train_data_size = 200\n",
        "\n",
        "train_idx = [randint(0, len(x_data) - 1) for _ in range(train_data_size)]\n",
        "train_idx.sort()\n",
        "train_data_x = x_data[train_idx, :]  # X data\n",
        "train_data_y = y_data[train_idx, :]  # Y data"
      ]
    },
    {
      "cell_type": "markdown",
      "id": "b02d2146-7260-4b37-9da7-8944f4f3c26a",
      "metadata": {
        "id": "b02d2146-7260-4b37-9da7-8944f4f3c26a"
      },
      "source": [
        "\n",
        "## Neural network examples\n"
      ]
    },
    {
      "cell_type": "markdown",
      "id": "bde77beb-5af9-4e7e-b5dc-3b0554977afd",
      "metadata": {
        "id": "bde77beb-5af9-4e7e-b5dc-3b0554977afd"
      },
      "source": [
        "\n",
        "### Creating a neural network\n"
      ]
    },
    {
      "cell_type": "markdown",
      "id": "181b0e95-752d-4976-837d-b591ca7a206c",
      "metadata": {
        "id": "181b0e95-752d-4976-837d-b591ca7a206c"
      },
      "source": [
        "A neural network with input and output layer sizes equal to 1 and hidden layer sizes `[32, 16, 8]`."
      ]
    },
    {
      "cell_type": "code",
      "execution_count": 87,
      "id": "ea6d835c-4e77-45db-b387-1c0a125442f1",
      "metadata": {
        "id": "ea6d835c-4e77-45db-b387-1c0a125442f1",
        "colab": {
          "base_uri": "https://localhost:8080/"
        },
        "outputId": "3291413e-acf9-4a92-e471-d6da4daacad8"
      },
      "outputs": [
        {
          "output_type": "stream",
          "name": "stdout",
          "text": [
            "IModel tensorflow_dense_net_17\n",
            "Layer TFDense0\n",
            "weights shape = (1, 32)\n",
            "Layer TFDense1\n",
            "weights shape = (32, 16)\n",
            "Layer TFDense2\n",
            "weights shape = (16, 8)\n",
            "Layer OutLayerTFDense\n",
            "weights shape = (8, 1)\n",
            "\n"
          ]
        }
      ],
      "source": [
        "nn_1_32_16_8_1 = IModel(\n",
        "    input_size=1,\n",
        "    block_size=[32, 16, 8],\n",
        "    output_size=1\n",
        ")\n",
        "print(nn_1_32_16_8_1)"
      ]
    },
    {
      "cell_type": "markdown",
      "id": "ee1700ed-85d2-40d8-bcad-cc370f4329a5",
      "metadata": {
        "id": "ee1700ed-85d2-40d8-bcad-cc370f4329a5"
      },
      "source": [
        "A neural network with an input layer size of 1, an output layer size of 3, hidden layer sizes of `[10, 10]` and activation functions `[swish, relu]` for the hidden layers."
      ]
    },
    {
      "cell_type": "code",
      "execution_count": 88,
      "id": "0fd2c408-1cf7-41eb-b04a-839736b5bdb4",
      "metadata": {
        "id": "0fd2c408-1cf7-41eb-b04a-839736b5bdb4",
        "colab": {
          "base_uri": "https://localhost:8080/"
        },
        "outputId": "9c9b2c71-4bf5-4fcf-f819-0c26ade25475"
      },
      "outputs": [
        {
          "output_type": "stream",
          "name": "stdout",
          "text": [
            "Activation functions per layer for n_1_10_10_3\n",
            "0 swish\n",
            "1 relu\n",
            "2 linear\n",
            "IModel tensorflow_dense_net_18\n",
            "Layer TFDense0\n",
            "weights shape = (1, 10)\n",
            "Layer TFDense1\n",
            "weights shape = (10, 10)\n",
            "Layer OutLayerTFDense\n",
            "weights shape = (10, 1)\n",
            "\n"
          ]
        }
      ],
      "source": [
        "shape = [10, 10]\n",
        "activations = [\"swish\", \"relu\"] + [\"linear\"]  # additional activation function for output layer\n",
        "\n",
        "nn_1_10_10_3 = IModel(\n",
        "    input_size=1,\n",
        "    block_size=shape,\n",
        "    output_size=1,\n",
        "    activation_func=activations,\n",
        ")\n",
        "\n",
        "print(\"Activation functions per layer for n_1_10_10_3\")\n",
        "acts = nn_1_10_10_3.get_activations\n",
        "for i, act_name in enumerate(activations):\n",
        "    print(i, act_name)\n",
        "\n",
        "print(nn_1_10_10_3)"
      ]
    },
    {
      "cell_type": "markdown",
      "id": "022e44c7-2d61-4483-85ec-54d68b069ea6",
      "metadata": {
        "id": "022e44c7-2d61-4483-85ec-54d68b069ea6"
      },
      "source": [
        "\n",
        "### Neural network training\n"
      ]
    },
    {
      "cell_type": "code",
      "execution_count": 89,
      "id": "567a8fa3-8c79-4d2e-89e8-c61b4c56cb08",
      "metadata": {
        "id": "567a8fa3-8c79-4d2e-89e8-c61b4c56cb08"
      },
      "outputs": [],
      "source": [
        "# Prepare network for training\n",
        "\n",
        "nn_1_32_16_8_1.compile(\n",
        "    optimizer=\"Adam\",\n",
        "    loss_func=\"MaxAbsoluteDeviation\",  # max(abs(y_true - y_prediction))\n",
        "    metrics=[]\n",
        ")"
      ]
    },
    {
      "cell_type": "code",
      "execution_count": 90,
      "id": "ad9cd368-1d90-4d51-8769-d5b75c0e1c46",
      "metadata": {
        "id": "ad9cd368-1d90-4d51-8769-d5b75c0e1c46",
        "colab": {
          "base_uri": "https://localhost:8080/"
        },
        "outputId": "f7b0fe47-1abc-4db0-fc06-f0880822aaeb"
      },
      "outputs": [
        {
          "output_type": "stream",
          "name": "stdout",
          "text": [
            "Loss before training = 0.9465698003768921\n",
            "Loss after training = 0.8159846663475037\n"
          ]
        }
      ],
      "source": [
        "# Train network (something about 5 sec. on Google Colab)\n",
        "\n",
        "loss_before_train = nn_1_32_16_8_1.evaluate(x_data, y_data, verbose=0)\n",
        "\n",
        "nn_1_32_16_8_1.train(train_data_x, train_data_y, epochs=50, verbose=0)\n",
        "\n",
        "loss_after_train = nn_1_32_16_8_1.evaluate(x_data, y_data, verbose=0)\n",
        "\n",
        "print(f\"Loss before training = {loss_before_train}\")\n",
        "print(f\"Loss after training = {loss_after_train}\")"
      ]
    },
    {
      "cell_type": "markdown",
      "id": "f9db7fd0-e29f-454f-ba35-3cba5131347a",
      "metadata": {
        "id": "f9db7fd0-e29f-454f-ba35-3cba5131347a"
      },
      "source": [
        "\n",
        "### Export neural network\n"
      ]
    },
    {
      "cell_type": "markdown",
      "id": "a5505e06-821e-49aa-bcb8-b5360ec02096",
      "metadata": {
        "id": "a5505e06-821e-49aa-bcb8-b5360ec02096"
      },
      "source": [
        "Exporting a neural network as a set of parameters"
      ]
    },
    {
      "cell_type": "code",
      "execution_count": 91,
      "id": "d6f06bcf-d2af-45cd-87f4-9dc09fa26904",
      "metadata": {
        "id": "d6f06bcf-d2af-45cd-87f4-9dc09fa26904"
      },
      "outputs": [],
      "source": [
        "nn_1_32_16_8_1.export_to_file(\"some_path\")"
      ]
    },
    {
      "cell_type": "markdown",
      "id": "6e1d9b3b-0ebb-4aef-bcd9-e5e91047caca",
      "metadata": {
        "id": "6e1d9b3b-0ebb-4aef-bcd9-e5e91047caca"
      },
      "source": [
        "Exporting a neural network as C++ code"
      ]
    },
    {
      "cell_type": "code",
      "execution_count": 92,
      "id": "925fd46f-cf35-46f3-83f5-9772968f2b66",
      "metadata": {
        "id": "925fd46f-cf35-46f3-83f5-9772968f2b66"
      },
      "outputs": [],
      "source": [
        "nn_1_32_16_8_1.export_to_cpp(\"some_path\")"
      ]
    },
    {
      "cell_type": "markdown",
      "id": "295320ae-a5f3-4d97-916b-181b415fcc63",
      "metadata": {
        "id": "295320ae-a5f3-4d97-916b-181b415fcc63"
      },
      "source": [
        "\n",
        "## Search algorithms examples\n"
      ]
    },
    {
      "cell_type": "code",
      "execution_count": 93,
      "id": "d60fb3fa-ac0b-47c9-a0be-1b172f87655b",
      "metadata": {
        "id": "d60fb3fa-ac0b-47c9-a0be-1b172f87655b"
      },
      "outputs": [],
      "source": [
        "from degann.search_algorithms import random_search_endless, simulated_annealing, pattern_search, grid_search"
      ]
    },
    {
      "cell_type": "markdown",
      "id": "42d6acd9-aae1-41b1-8e7f-775bd5c5884f",
      "metadata": {
        "id": "42d6acd9-aae1-41b1-8e7f-775bd5c5884f"
      },
      "source": [
        "\n",
        "### Pattern search\n"
      ]
    },
    {
      "cell_type": "markdown",
      "id": "dd39390d-ad6d-4480-ba27-ef4d4ceeda30",
      "metadata": {
        "id": "dd39390d-ad6d-4480-ba27-ef4d4ceeda30"
      },
      "source": [
        "In this example, the training of neural networks with the following topologies:\n",
        "\n",
        " * 0 hidden layers\n",
        " * hidden layer with 20 neurons and (parabolic activation function)[https://rairi.frccsc.ru/en/publications/426]\n",
        " * hidden layer with 20 neurons and exponential activation function\n",
        " * two hidden layers with 10 neurons each and a parabolic activation function for each layer\n",
        " * two hidden layers with 10 neurons each and an exponential activation function for each layer\n",
        "\n",
        "For each neural network, the activation function for the output layer is a linear activation function. The size of the input and output layers is automatically determined from the passed data.\n",
        "\n",
        "Only MSE was chosen as the loss function used in training, as metrics for assessing the quality of training --- MaxAbsoluteDeviation, MSLE, as an optimizer --- Adam. Training is carried out over 20 epochs, and there is no data normalization."
      ]
    },
    {
      "cell_type": "code",
      "execution_count": 94,
      "id": "66347e3b-39a6-4043-96ad-dfd1d5982930",
      "metadata": {
        "id": "66347e3b-39a6-4043-96ad-dfd1d5982930",
        "colab": {
          "base_uri": "https://localhost:8080/"
        },
        "outputId": "d93b8ce5-7541-4ce5-bdaa-1ee06b594f3c"
      },
      "outputs": [
        {
          "output_type": "stream",
          "name": "stdout",
          "text": [
            "[[{'loss_function': 'MeanSquaredError', 'normalize': False, 'optimizer': 'Adam', 'epochs': 10, 'eps': 0.01, 'metrics': ['MaxAbsoluteDeviation', 'MeanSquaredLogarithmicError'], 'validation_metrics': ['Huber', 'LogCosh', 'MeanAbsoluteError', 'MeanAbsolutePercentageError', 'MaxAbsolutePercentageError', 'MeanSquaredError', 'RootMeanSquaredError', 'MeanSquaredLogarithmicError', 'RelativeAbsoluteError', 'MaxAbsoluteDeviation'], 'nets_param': [[[], ['linear'], [None]], [[10], ['parabolic', 'linear'], [None, None]], [[10], ['exponential', 'linear'], [None, None]], [[5, 5], ['parabolic', 'parabolic', 'linear'], [None, None, None]], [[5, 5], ['exponential', 'exponential', 'linear'], [None, None, None]]], 'validation_split': 0, 'use_rand_net': False}, 0.17097823321819305, 0.1110386773943901, <degann.networks.imodel.IModel object at 0x7887e3aee470>]]\n"
          ]
        }
      ],
      "source": [
        "# Takes about 3 min. in Google Colab\n",
        "\n",
        "config = {\n",
        "    \"loss_functions\": [\"MeanSquaredError\"],\n",
        "    \"optimizers\": [\"Adam\"],\n",
        "    \"metrics\": [\"MaxAbsoluteDeviation\", \"MeanSquaredLogarithmicError\"],\n",
        "    \"net_shapes\": [\n",
        "        [],  # neural network without hidden layers\n",
        "        [10],\n",
        "        [5, 5]\n",
        "    ],\n",
        "    \"activations\": [\"parabolic\", \"exponential\"],\n",
        "    \"validation_split\": 0,\n",
        "    \"rates\": [1e-2],\n",
        "    \"epochs\": [10],\n",
        "    \"normalize\": [False],\n",
        "    \"use_rand_net\": False,\n",
        "}\n",
        "\n",
        "best_nns = pattern_search(\n",
        "    x_data=train_data_x,\n",
        "    y_data=train_data_y,\n",
        "    x_val=x_data,\n",
        "    y_val=y_data,\n",
        "    **config\n",
        ")\n",
        "print(best_nns)"
      ]
    },
    {
      "cell_type": "markdown",
      "id": "7019a6bc-ad56-4490-ab73-9fabbb3e3066",
      "metadata": {
        "id": "7019a6bc-ad56-4490-ab73-9fabbb3e3066"
      },
      "source": [
        "\n",
        "### Neural network coding\n"
      ]
    },
    {
      "cell_type": "markdown",
      "id": "475ccc8b-eee1-4422-91f0-65a21f61122f",
      "metadata": {
        "id": "475ccc8b-eee1-4422-91f0-65a21f61122f"
      },
      "source": [
        "The DEGANN package uses a representation of the topology of neural networks in the form of a word from the topology language.\n",
        "\n",
        "The alphabet for the language consists of symbols that describe possible hidden layers in the neural network. For each symbol, the first `k` hexadecimal letters describe the number of neurons in the layer, and the last symbol describes the activation function for that layer.\n",
        "The package defaults to symbols where the layer size is encoded with a single hexadecimal letter and a offset of `8`, so hidden layer sizes range from 8 to 23 inclusive.\n",
        "\n",
        "For example, a neural network with topologies `[8 neurons and activation function softplus, 23 neurons and activation function swish, 12 neurons and activation function gelu]` will look like “0af842” as a result of encoding.\n",
        "\n",
        "You can change the number of hexadecimal letters allocated to encode the size of hidden layers using the `block_size` parameter, and the offset can be changed using `offset` (layer size = hex_to_dec + offset)"
      ]
    },
    {
      "cell_type": "code",
      "execution_count": 95,
      "id": "30d58cb4-7db6-4e6a-9640-7680321f1f84",
      "metadata": {
        "id": "30d58cb4-7db6-4e6a-9640-7680321f1f84",
        "colab": {
          "base_uri": "https://localhost:8080/"
        },
        "outputId": "7ce69d77-315a-48fe-ed66-f89de176d57b"
      },
      "outputs": [
        {
          "output_type": "stream",
          "name": "stdout",
          "text": [
            "Neural network with shape [10, 8, 23, 16] and activations ['tanh', 'exponential', 'relu', 'swish', 'linear'] encoded in 2904f188\n",
            "2904f188 decoded in shape [10, 8, 23, 16] and activations ['tanh', 'exponential', 'relu', 'swish']\n",
            "e4aa00 with block_size=2 and offset=1 decoded in shape [229, 161] and activations ['softplus', 'elu']\n"
          ]
        }
      ],
      "source": [
        "# Examples of coding\n",
        "\n",
        "from degann.search_algorithms.nn_code import encode, decode, act_to_hex, hex_to_act, alph_n_full\n",
        "\n",
        "shape_1 = [10, 8, 23, 16]\n",
        "activations_1 = [\"tanh\", \"exponential\", \"relu\", \"swish\", \"linear\"]\n",
        "nn_for_code_1 = IModel(\n",
        "    input_size=1,\n",
        "    block_size=shape_1,\n",
        "    output_size=1,\n",
        "    activation_func=activations_1\n",
        ")\n",
        "code_1 = encode(nn_for_code_1, offset=8)\n",
        "print(f\"Neural network with shape {shape_1} and activations {activations_1} encoded in {code_1}\")\n",
        "\n",
        "shape_1_from_code, activations_1_from_code = decode(code_1, block_size=1, offset=8)\n",
        "print(f\"{code_1} decoded in shape {shape_1_from_code} and activations {activations_1_from_code}\")\n",
        "\n",
        "code_2 = \"e4aa00\"\n",
        "shape_2_from_code, activations_2_from_code = decode(code_2, block_size=2, offset=1)\n",
        "print(f\"{code_2} with block_size=2 and offset=1 decoded in shape {shape_2_from_code} and activations {activations_2_from_code}\")"
      ]
    },
    {
      "cell_type": "markdown",
      "id": "49a276f0-1288-4916-94a2-df9a1c9b01eb",
      "metadata": {
        "id": "49a276f0-1288-4916-94a2-df9a1c9b01eb"
      },
      "source": [
        "\n",
        "### Grid search\n"
      ]
    },
    {
      "cell_type": "markdown",
      "id": "48a83bc7-810d-4d57-8cef-c8eb57d2fc49",
      "metadata": {
        "id": "48a83bc7-810d-4d57-8cef-c8eb57d2fc49"
      },
      "source": [
        "In this example, the training of neural networks with the following topologies:\n",
        "\n",
        " - [0a] --- one hidden layer with 8 neurons and softplus activation function\n",
        " - [42] --- one hidden layer with 12 neurons and gelu activation function\n",
        " - [0a, 0a] --- two hidden layers with 8 neurons each and softplus activation functions\n",
        " - [0a, 42] --- two hidden layers with 8 and 12 neurons and activation functions softplus and gelu\n",
        " - [42, 0a] --- two hidden layers with 12 and 8 neurons and activation functions gelu and softplus\n",
        " - [42, 42] --- two hidden layers with 12 neurons each and gelu activation functions\n",
        "\n",
        "For each neural network, the activation function for the output layer is a linear activation function.\n",
        "\n",
        "Only MSE was chosen as the loss function used in training, and Adam was chosen as the optimizer. Training is carried out over 10 and 20 epochs."
      ]
    },
    {
      "cell_type": "code",
      "execution_count": 96,
      "id": "129da5a4-2225-439e-9e31-6b59c5e98569",
      "metadata": {
        "id": "129da5a4-2225-439e-9e31-6b59c5e98569",
        "colab": {
          "base_uri": "https://localhost:8080/"
        },
        "outputId": "c890adcd-51e1-409d-9e7a-1a2836bfda74"
      },
      "outputs": [
        {
          "output_type": "stream",
          "name": "stdout",
          "text": [
            "{'net_type': 'MyDense', 'name': 'net', 'input_size': 1, 'block_size': [12, 12], 'output_size': 1, 'layer': [{'shape': 12, 'inp_size': 1, 'weights': [[0.9698895215988159, 0.07402445375919342, -0.04008913040161133, 0.5212143659591675, 0.6800607442855835, 0.1299630105495453, 0.31695476174354553, 0.14667567610740662, -0.7930814027786255, 0.707554280757904, 1.218288779258728, 0.6774923801422119]], 'biases': [0.0018410313641652465, 0.6418741941452026, -0.3702523112297058, -0.8548269271850586, -0.20099659264087677, 0.4278135597705841, -0.6750956177711487, 0.2944152355194092, -0.03723228722810745, -0.39896953105926514, -0.9738515019416809, 0.051032114773988724], 'layer_type': 'TensorflowDense', 'dtype': 'float32', 'activation': 'gelu', 'decorator_params': None}, {'shape': 12, 'inp_size': 12, 'weights': [[-0.1817256361246109, -0.013755935244262218, 1.083078384399414, 0.018137900158762932, -0.12205826491117477, -0.08639021962881088, 0.44814062118530273, -0.08855330944061279, 0.461092084646225, 0.6501606702804565, 0.07753539830446243, -0.20566459000110626], [0.059031471610069275, -0.6787630915641785, 0.20892710983753204, 0.5786858797073364, 0.07719302922487259, 0.0328252948820591, -0.08571945875883102, -0.9414731860160828, -0.7452178001403809, 0.8584871292114258, -0.7296391129493713, 0.8993839025497437], [0.41495805978775024, -0.507761538028717, 0.5441761016845703, -0.9259760975837708, 0.11874771118164062, 0.8795722723007202, -0.10028200596570969, -0.5160455107688904, 0.19842569530010223, 0.4651177227497101, -0.3014216125011444, -0.3006177842617035], [-0.6127166748046875, 0.27507492899894714, 0.43815088272094727, -0.5824617743492126, -0.9343821406364441, -0.12872214615345, -0.5939663648605347, -0.1587272584438324, -0.30235305428504944, -0.06855252385139465, 0.678442120552063, 0.8773463368415833], [0.7358773350715637, 0.06885082274675369, 0.906233549118042, -0.09487961232662201, -0.37544143199920654, 0.2680603861808777, -0.48849818110466003, -0.5115530490875244, 0.01649380289018154, -0.39810478687286377, 0.5925564765930176, 0.9665595889091492], [0.30068325996398926, 0.2824418246746063, -0.42922401428222656, 0.8422855734825134, 0.8265261650085449, 0.5291745066642761, -0.7546188235282898, -0.433156818151474, 0.567171573638916, 0.08623585104942322, 0.7840302586555481, -0.7140149474143982], [0.7089081406593323, 0.23962974548339844, -0.5746722221374512, 0.2694544494152069, 0.9419256448745728, -0.547422468662262, -0.747568666934967, -0.3154526948928833, 0.8664302825927734, 0.7556192874908447, -0.7878972887992859, 0.8950305581092834], [-0.754320502281189, -0.7299962043762207, -0.6782386898994446, -0.5060325264930725, 0.8412209749221802, 0.6683270335197449, 0.7452611327171326, -0.9991496205329895, 0.9962572455406189, 0.3997892439365387, 0.22114668786525726, -0.13010551035404205], [0.19719697535037994, 0.6200953722000122, 0.7517430782318115, -0.3594207167625427, 0.6070534586906433, -0.7938210964202881, 0.6025792360305786, 0.3139258623123169, 0.6384019255638123, 0.3010212779045105, -0.9630530476570129, 0.9343671798706055], [0.24237920343875885, -0.5455319285392761, 0.6936134099960327, 0.6168847680091858, -0.9549253582954407, -0.04938920959830284, -0.2336093634366989, 0.06337626278400421, -0.26912933588027954, -0.2169458121061325, 0.09580238908529282, -0.635464608669281], [0.3028949797153473, -0.22284331917762756, 1.0689939260482788, -0.5089250206947327, -0.055033374577760696, 0.2756425738334656, 1.0216829776763916, -0.09596014022827148, 0.9045602083206177, 0.822252631187439, -0.8021867871284485, -0.4191170632839203], [-0.9006353616714478, 0.49241095781326294, -0.605913519859314, 0.37675905227661133, 0.19261214137077332, -0.47793227434158325, -0.5854654312133789, -0.08532995730638504, -0.15584510564804077, -1.0058871507644653, -0.39954400062561035, 1.020992636680603]], 'biases': [0.46902161836624146, 0.7607216835021973, 0.625221848487854, 0.09596504271030426, 0.3966551423072815, -0.38372543454170227, -0.9997446537017822, -0.19062325358390808, -0.9958521127700806, -0.28680041432380676, -0.8466134667396545, -0.349724143743515], 'layer_type': 'TensorflowDense', 'dtype': 'float32', 'activation': 'gelu', 'decorator_params': None}], 'out_layer': {'shape': 1, 'inp_size': 12, 'weights': [[-0.0870843157172203], [-0.3947954773902893], [-0.022232770919799805], [-0.16016975045204163], [-0.9003137946128845], [0.6492021083831787], [-0.7117387652397156], [0.9759898781776428], [-0.216387078166008], [-0.2990931570529938], [-0.84584641456604], [0.46895745396614075]], 'biases': [0.8412495851516724], 'layer_type': 'TensorflowDense', 'dtype': 'float32', 'activation': 'linear', 'decorator_params': None}}\n"
          ]
        }
      ],
      "source": [
        "# Takes about 30 sec. in Google colab\n",
        "\n",
        "result_loss, result_epoch, result_loss_name, result_optimizer, result_nn = grid_search(\n",
        "    input_size=1,\n",
        "    output_size=1,\n",
        "    data=(train_data_x, train_data_y),\n",
        "    optimizers=[\"Adam\"],\n",
        "    loss=[\"MeanAbsolutePercentageError\"],\n",
        "    min_epoch=10,\n",
        "    max_epoch=20,\n",
        "    epoch_step=10,\n",
        "    nn_min_length=1,\n",
        "    nn_max_length=2,\n",
        "    nn_alphabet=[\"0a\", \"42\"],\n",
        ")\n",
        "print(result_nn)"
      ]
    },
    {
      "cell_type": "markdown",
      "id": "61aedb2a-499e-462b-851a-25540c47a34e",
      "metadata": {
        "id": "61aedb2a-499e-462b-851a-25540c47a34e"
      },
      "source": [
        "\n",
        "### Random search\n"
      ]
    },
    {
      "cell_type": "markdown",
      "id": "1dcd9d15-68d7-49ee-bab6-f19700c8a146",
      "metadata": {
        "id": "1dcd9d15-68d7-49ee-bab6-f19700c8a146"
      },
      "source": [
        "In this example, a neural network is randomly selected and then trained from a set of topologies:\n",
        "\n",
        "$$ \\{8~neurons~and~softplus,~23~neurons~and~swish,~12~neurons~and~gelu\\}^k,~k = 1..3 $$\n",
        "\n",
        "For each neural network, the activation function for the output layer is a linear activation function.\n",
        "\n",
        "MaxAPE was chosen as the loss function used in training, and Adam was chosen as the optimizer. Training is performed in a randomly selected number of epochs between 10 and 20 inclusive.\n",
        "\n",
        "The random search will stop either after reaching 10 iterations (i.e. 10 trained neural networks), or if the next neural network, as a result of training, receives a loss function value less than the threshold --- 20."
      ]
    },
    {
      "cell_type": "code",
      "execution_count": 97,
      "id": "d13a5ba3-d8c8-423d-a878-6bee84067509",
      "metadata": {
        "id": "d13a5ba3-d8c8-423d-a878-6bee84067509",
        "colab": {
          "base_uri": "https://localhost:8080/"
        },
        "outputId": "dbec104d-517c-44a1-c316-ffe2cb4fe8d3"
      },
      "outputs": [
        {
          "output_type": "stream",
          "name": "stdout",
          "text": [
            "{'net_type': 'MyDense', 'name': 'net', 'input_size': 1, 'block_size': [12, 23], 'output_size': 1, 'layer': [{'shape': 12, 'inp_size': 1, 'weights': [[0.7362782955169678, 0.5470342040061951, 0.2698371112346649, -0.35307496786117554, 0.771199643611908, 0.1158655509352684, 0.3359379172325134, 0.062034714967012405, 0.5036932229995728, -1.0181628465652466, 0.7803053259849548, -0.3970106244087219]], 'biases': [0.6651415228843689, 0.2642047703266144, 0.48504266142845154, 0.3084040880203247, 0.5541269183158875, -0.8860778212547302, -0.4689081311225891, -0.5536771416664124, 0.7812002897262573, -0.7283917665481567, 0.42796552181243896, -0.051554664969444275], 'layer_type': 'TensorflowDense', 'dtype': 'float32', 'activation': 'gelu', 'decorator_params': None}, {'shape': 23, 'inp_size': 12, 'weights': [[-0.6037113070487976, -0.09778420627117157, -0.006012914702296257, 0.12153194844722748, 0.5396328568458557, 0.7954138517379761, 0.20584149658679962, 0.8378719687461853, 0.15296290814876556, -0.07310313731431961, -0.5337005853652954, -1.0455999374389648, -0.8400834798812866, -0.1904371976852417, -0.6148219704627991, -0.06893905997276306, -0.06520519405603409, 0.7515349984169006, 0.0658809244632721, 0.529943585395813, 0.2635299563407898, 0.5310698747634888, 0.8125380277633667], [-0.6850541830062866, 0.22969569265842438, 0.7511705756187439, 0.8914214372634888, 0.4031636714935303, -0.4734186828136444, 0.19660082459449768, -1.0759732723236084, 0.7183911204338074, -0.27937227487564087, -0.7050100564956665, 0.7578846216201782, 0.6159878373146057, -1.0193270444869995, 0.9862193465232849, -0.14740531146526337, -0.4573203921318054, 0.06575897336006165, -0.5894858837127686, -0.2777087390422821, 0.9129642844200134, -0.06941588968038559, -0.12122560292482376], [-0.03083140030503273, 0.6948258876800537, 0.4845450222492218, 0.7244290709495544, -0.46888092160224915, 0.5181063413619995, 0.8602949976921082, -0.1315193474292755, 0.7829287052154541, -0.3154573440551758, 1.0499595403671265, -0.9556897282600403, -0.5326865315437317, -0.5665608644485474, -0.35094720125198364, 0.049715399742126465, 0.5287885665893555, 0.5122274160385132, -0.6947668194770813, -0.7143481969833374, 0.567337155342102, 0.009148335084319115, 0.8189967274665833], [0.6079145669937134, 0.30761831998825073, -0.6380801796913147, 0.6426975131034851, -0.6513124704360962, -0.2781139016151428, 0.12277805060148239, -0.36978766322135925, 0.7416536211967468, -0.8735629916191101, -1.0375585556030273, -0.05102706328034401, -0.8579726815223694, 0.8732491731643677, 0.48157188296318054, 0.6165804862976074, 0.5440779328346252, -1.0414708852767944, 0.785193681716919, 0.21065466105937958, -0.017487380653619766, 0.10110976547002792, -0.05686154589056969], [0.5399186015129089, -0.5353443026542664, 0.7508439421653748, 0.5248520374298096, -0.4417448937892914, 0.7040608525276184, -0.8278210163116455, 0.6651416420936584, -0.6380752921104431, 0.31184670329093933, -0.7912338972091675, -0.5304453372955322, -0.7370565533638, -0.49490371346473694, -0.6032602787017822, 0.471799373626709, 0.5789071917533875, 1.040871024131775, -0.0824115127325058, 0.8236309885978699, 0.9649361968040466, 0.1451033651828766, -1.1060668230056763], [0.02639642171561718, 0.6036231517791748, -0.2016901671886444, 0.4237293601036072, 1.0244728326797485, 0.06725285947322845, 0.8833518624305725, -0.7678889632225037, -0.604022741317749, 0.389358252286911, 0.5822282433509827, 0.9788010716438293, -1.0268751382827759, -0.7912070155143738, 0.3925742506980896, 0.7852910161018372, -0.9355085492134094, -0.47832608222961426, -1.1004303693771362, 0.695492148399353, 0.12630584836006165, -0.1347671002149582, -0.3872261643409729], [1.0133352279663086, 0.6382660269737244, 0.6436843276023865, -0.531532347202301, 0.3736944794654846, 0.622140645980835, -0.9239916801452637, -0.10313604772090912, -0.23506441712379456, 0.5796285271644592, -0.904530942440033, 1.0059597492218018, 0.4669664800167084, 0.03195381537079811, -0.5414361357688904, -0.2585005760192871, -0.44612541794776917, 0.7477183938026428, 0.2767108082771301, 0.08318614959716797, 0.5211223363876343, 0.15704789757728577, -0.03623899444937706], [1.004995584487915, 0.5300231575965881, 0.3337897062301636, -0.09112384170293808, 0.8505192399024963, 0.39739280939102173, -0.34097012877464294, 0.1226349025964737, 0.06851302087306976, 0.9878263473510742, -0.001811048947274685, 0.7854524254798889, -0.698405385017395, 0.7364035248756409, -0.20876312255859375, 0.6303053498268127, -0.44852548837661743, -0.28323179483413696, 0.5522534251213074, 0.5502001643180847, 0.5318446159362793, 0.47415268421173096, 0.9607818126678467], [0.8729162812232971, 0.24564018845558167, 0.6038817763328552, -0.12908227741718292, 0.6867146492004395, -0.19448892772197723, -0.09223388135433197, -0.303621768951416, 0.6130121350288391, 0.4909774661064148, 0.9893062710762024, 0.25446274876594543, -0.7772185206413269, -0.8570982217788696, -0.45499634742736816, -0.9350152015686035, -0.6735326647758484, -0.42279475927352905, 0.42548301815986633, 0.6656327843666077, -0.4056057929992676, -0.6723138689994812, 0.27559447288513184], [1.0262219905853271, 0.4336298108100891, 0.453683078289032, 0.7005125284194946, 0.14815081655979156, 0.9206346869468689, -0.7080323100090027, 0.1350393444299698, -0.4077414572238922, -0.9780684113502502, 0.0789041817188263, 0.8780024647712708, -0.20809996128082275, -0.5569645166397095, -0.453017920255661, -0.6827839016914368, -0.7420892715454102, 0.6387134790420532, 0.09246322512626648, -0.47189396619796753, -0.14846816658973694, 0.08404282480478287, -0.6712949275970459], [0.6224402785301208, 0.6500903367996216, -0.4784201681613922, -0.5009391903877258, 0.6030349135398865, 0.01698285900056362, 0.08424185961484909, -0.7053297162055969, -0.6399368047714233, 0.702125608921051, 1.005402684211731, -1.0332517623901367, -0.7023156881332397, -0.7943741679191589, 0.6564149260520935, 0.3942178189754486, -0.12988531589508057, 0.06485051661729813, -0.7128216028213501, -0.7897717952728271, -0.6494171023368835, 0.7134113907814026, 0.6046822667121887], [-0.41400837898254395, -0.7971213459968567, 0.14905644953250885, -0.9401020407676697, -0.8155589699745178, 0.44347792863845825, -0.6227265000343323, 0.2327619045972824, 0.4948582351207733, 0.45673230290412903, 0.6191762089729309, 0.8694227933883667, -0.687476396560669, 0.06273290514945984, -0.5553513765335083, 0.04736277833580971, 0.9620675444602966, -0.7942841649055481, 0.20034119486808777, 0.7533018589019775, -0.5645055174827576, 0.9227587580680847, 0.7020120024681091]], 'biases': [0.3757258653640747, -0.31299084424972534, -0.29923155903816223, 0.4801672697067261, 0.5581727623939514, -0.1948382705450058, -0.6562672257423401, 0.9022368788719177, -0.5986104607582092, -1.0633989572525024, -0.914830207824707, 0.5104244947433472, -0.2360069453716278, 0.1256231814622879, 1.2570302486419678, -0.9028890132904053, -0.34139615297317505, 0.5866754055023193, -0.13732005655765533, -0.2189624309539795, -0.6601666212081909, -1.0401792526245117, -0.505473792552948], 'layer_type': 'TensorflowDense', 'dtype': 'float32', 'activation': 'swish', 'decorator_params': None}], 'out_layer': {'shape': 1, 'inp_size': 23, 'weights': [[0.9159046411514282], [-0.3770879805088043], [0.9416031241416931], [-0.6465479135513306], [0.4918763041496277], [-0.40862414240837097], [-0.649578869342804], [-0.739905059337616], [-0.3583986163139343], [-0.6396012902259827], [0.2809741795063019], [1.1588331460952759], [1.0564172267913818], [0.4359443783760071], [-0.37876084446907043], [-0.2008541375398636], [-0.6824180483818054], [0.6160949468612671], [-0.7668251395225525], [-0.5346872806549072], [0.27220505475997925], [-0.42986351251602173], [-0.6873401999473572]], 'biases': [0.10882556438446045], 'layer_type': 'TensorflowDense', 'dtype': 'float32', 'activation': 'linear', 'decorator_params': None}}\n"
          ]
        }
      ],
      "source": [
        "result_loss, result_epoch, result_loss_name, result_optimizer, result_nn, final_iteration = random_search_endless(\n",
        "    input_size=1,\n",
        "    output_size=1,\n",
        "    data=(train_data_x, train_data_y),\n",
        "    opt=\"Adam\",\n",
        "    loss=\"MeanSquaredError\",\n",
        "    threshold=1,\n",
        "    min_epoch=10,\n",
        "    max_epoch=20,\n",
        "    max_iter=10,\n",
        "    nn_min_length=1,\n",
        "    nn_max_length=3,\n",
        "    nn_alphabet=[\"0a\", \"f8\", \"42\"],\n",
        ")\n",
        "print(result_nn)"
      ]
    },
    {
      "cell_type": "markdown",
      "id": "65d7889a-7dec-48c8-97ad-a9e05881a849",
      "metadata": {
        "id": "65d7889a-7dec-48c8-97ad-a9e05881a849"
      },
      "source": [
        "\n",
        "### Simulated annealing\n"
      ]
    },
    {
      "cell_type": "markdown",
      "id": "5739109c-91e6-4020-bfe9-9586c9a78be3",
      "metadata": {
        "id": "5739109c-91e6-4020-bfe9-9586c9a78be3"
      },
      "source": [
        "In this example, a neural network is randomly selected and then trained from a set of topologies:\n",
        "\n",
        "$$ \\{8~neurons~and~softplus,~23~neurons~and~swish,~12~neurons~and~gelu\\}^k,~k = 1..3 $$\n",
        "\n",
        "For each neural network, the activation function for the output layer is a linear activation function.\n",
        "\n",
        "Huber was chosen as the loss function used in training, and Adam was chosen as the optimizer. Training is performed in a randomly selected number of epochs between 10 and 20 inclusive.\n",
        "\n",
        "The random search will stop either after reaching 10 iterations (i.e. 10 trained neural networks), or if the next neural network, as a result of training, receives a loss function value less than the threshold --- 1."
      ]
    },
    {
      "cell_type": "code",
      "execution_count": 98,
      "id": "9e110db5-3fba-4092-9c42-c628ba8e5542",
      "metadata": {
        "id": "9e110db5-3fba-4092-9c42-c628ba8e5542",
        "colab": {
          "base_uri": "https://localhost:8080/"
        },
        "outputId": "b96da425-290d-4daa-c613-f33f5c689453"
      },
      "outputs": [
        {
          "output_type": "stream",
          "name": "stdout",
          "text": [
            "{'net_type': 'MyDense', 'name': 'net', 'input_size': 1, 'block_size': [8], 'output_size': 1, 'layer': [{'shape': 8, 'inp_size': 1, 'weights': [[-1.0239391326904297, 1.6072205305099487, -0.1687244176864624, -0.5459166765213013, -0.1591678261756897, 1.35411536693573, 1.1745833158493042, -0.7365793585777283]], 'biases': [0.6807079911231995, -0.5276349186897278, 0.09056754410266876, 0.10263487696647644, 0.02234930731356144, 0.7818245887756348, 0.3934025764465332, -0.5150426030158997], 'layer_type': 'TensorflowDense', 'dtype': 'float32', 'activation': 'softplus', 'decorator_params': None}], 'out_layer': {'shape': 1, 'inp_size': 8, 'weights': [[-1.2691771984100342], [1.137374997138977], [0.062373172491788864], [-0.5067711472511292], [0.47202277183532715], [0.6648935675621033], [0.29882434010505676], [-1.3441576957702637]], 'biases': [-0.03250351548194885], 'layer_type': 'TensorflowDense', 'dtype': 'float32', 'activation': 'linear', 'decorator_params': None}}\n"
          ]
        }
      ],
      "source": [
        "result_loss, result_epoch, result_loss_name, result_optimizer, result_nn, final_iteration = simulated_annealing(\n",
        "    input_size=1,\n",
        "    output_size=1,\n",
        "    data=(train_data_x, train_data_y),\n",
        "    opt=\"Adam\",\n",
        "    loss=\"Huber\",\n",
        "    threshold=1,\n",
        "    min_epoch=10,\n",
        "    max_epoch=20,\n",
        "    max_iter=10,\n",
        "    nn_min_length=1,\n",
        "    nn_max_length=3,\n",
        "    nn_alphabet=[\"0a\", \"f8\", \"42\"],\n",
        ")\n",
        "print(result_nn)"
      ]
    },
    {
      "cell_type": "markdown",
      "id": "3b633fea-9a3b-4cbe-86f5-ed55fdab6f2f",
      "metadata": {
        "id": "3b633fea-9a3b-4cbe-86f5-ed55fdab6f2f"
      },
      "source": [
        "\n",
        "## Expert system examples\n"
      ]
    },
    {
      "cell_type": "markdown",
      "source": [
        "The expert system automatically determines the parameters of search algorithms and conducts the search itself.\n",
        "\n",
        "As input, the expert system takes a set of tags describing the data and requirements for the solution."
      ],
      "metadata": {
        "id": "t7jQSyku8K4Y"
      },
      "id": "t7jQSyku8K4Y"
    },
    {
      "cell_type": "code",
      "source": [
        "from degann.expert import expert_system_tags\n",
        "from degann.expert.selector import suggest_parameters\n",
        "from degann.expert.pipeline import execute_pipeline\n",
        "\n",
        "algorithms_parameters = suggest_parameters(\n",
        "    tags={\n",
        "        \"type\": \"exp\",  # type of function in data --- in this case it is the parabola (3 * x^2)\n",
        "        \"precision\": \"minimal\",  # Shows how important the accuracy of the solution is to us\n",
        "        \"work time\": \"medium\",  # Shows how important the operating time (predict) of the resulting neural network is to us\n",
        "        \"data size\": \"median\",  # Training dataset size\n",
        "    }\n",
        ")\n",
        "\n",
        "print(\"Resulting parameters by expert system for search algorithms\")\n",
        "for k, v in algorithms_parameters.items():\n",
        "    print(f\"{k}: {v}\")"
      ],
      "metadata": {
        "colab": {
          "base_uri": "https://localhost:8080/"
        },
        "id": "hRPpDc_k8KSK",
        "outputId": "30d4b1c6-a383-4016-ba24-6b5e801b06eb"
      },
      "id": "hRPpDc_k8KSK",
      "execution_count": 99,
      "outputs": [
        {
          "output_type": "stream",
          "name": "stdout",
          "text": [
            "Resulting parameters by expert system for search algorithms\n",
            "launch_count_random_search: 3\n",
            "launch_count_simulated_annealing: 2\n",
            "nn_max_length: 4\n",
            "nn_min_length: 1\n",
            "nn_alphabet_block_size: 1\n",
            "nn_alphabet_offset: 8\n",
            "nn_alphabet: ['00', '01', '02', '03', '04', '05', '06', '07', '08', '09', '0a', '0b', '0c', '10', '11', '12', '13', '14', '15', '16', '17', '18', '19', '1a', '1b', '1c', '20', '21', '22', '23', '24', '25', '26', '27', '28', '29', '2a', '2b', '2c', '30', '31', '32', '33', '34', '35', '36', '37', '38', '39', '3a', '3b', '3c', '40', '41', '42', '43', '44', '45', '46', '47', '48', '49', '4a', '4b', '4c', '50', '51', '52', '53', '54', '55', '56', '57', '58', '59', '5a', '5b', '5c', '60', '61', '62', '63', '64', '65', '66', '67', '68', '69', '6a', '6b', '6c', '70', '71', '72', '73', '74', '75', '76', '77', '78', '79', '7a', '7b', '7c', '80', '81', '82', '83', '84', '85', '86', '87', '88', '89', '8a', '8b', '8c', '90', '91', '92', '93', '94', '95', '96', '97', '98', '99', '9a', '9b', '9c', 'a0', 'a1', 'a2', 'a3', 'a4', 'a5', 'a6', 'a7', 'a8', 'a9', 'aa', 'ab', 'ac', 'b0', 'b1', 'b2', 'b3', 'b4', 'b5', 'b6', 'b7', 'b8', 'b9', 'ba', 'bb', 'bc', 'c0', 'c1', 'c2', 'c3', 'c4', 'c5', 'c6', 'c7', 'c8', 'c9', 'ca', 'cb', 'cc', 'd0', 'd1', 'd2', 'd3', 'd4', 'd5', 'd6', 'd7', 'd8', 'd9', 'da', 'db', 'dc', 'e0', 'e1', 'e2', 'e3', 'e4', 'e5', 'e6', 'e7', 'e8', 'e9', 'ea', 'eb', 'ec', 'f0', 'f1', 'f2', 'f3', 'f4', 'f5', 'f6', 'f7', 'f8', 'f9', 'fa', 'fb', 'fc']\n",
            "min_train_epoch: 250\n",
            "max_train_epoch: 500\n",
            "iteration_count: 45\n",
            "loss_function: MaxAbsoluteDeviation\n",
            "loss_threshold: 2\n",
            "optimizer: Adam\n",
            "simulated_annealing_params: {'distance_to_neighbor': 'distance_const', 'dist_offset': 300, 'dist_scale': 0, 'temperature_reduction_method': 'temperature_lin', 'temperature_speed': 0}\n"
          ]
        }
      ]
    },
    {
      "cell_type": "code",
      "source": [
        "# All possible tags:\n",
        "\n",
        "# print(expert_system_tags)"
      ],
      "metadata": {
        "id": "RTAx8nNfD4zz"
      },
      "id": "RTAx8nNfD4zz",
      "execution_count": 100,
      "outputs": []
    },
    {
      "cell_type": "markdown",
      "source": [
        "It is higly recommended to change the loss function and the loss threshold value in the obtained parameters to suit your needs"
      ],
      "metadata": {
        "id": "cY9W9XXf-TFi"
      },
      "id": "cY9W9XXf-TFi"
    },
    {
      "cell_type": "code",
      "source": [
        "# Takes about 30 sec. in Google colab\n",
        "\n",
        "result_loss, result_nn = execute_pipeline(\n",
        "    input_size=1,\n",
        "    output_size=1,\n",
        "    data=(train_data_x, train_data_y),\n",
        "    parameters=algorithms_parameters\n",
        ")\n",
        "print(\"Resulting loss value =\", result_loss)\n",
        "print(\"Resulting network:\")\n",
        "print(result_nn)"
      ],
      "metadata": {
        "colab": {
          "base_uri": "https://localhost:8080/"
        },
        "id": "jbe1NWSi-jkj",
        "outputId": "60b14f24-ad12-4428-cba2-cb33c3ee1136"
      },
      "id": "jbe1NWSi-jkj",
      "execution_count": 101,
      "outputs": [
        {
          "output_type": "stream",
          "name": "stdout",
          "text": [
            "Resulting loss value = 0.04602716118097305\n",
            "Resulting network:\n",
            "{'net_type': 'MyDense', 'name': 'net', 'input_size': 1, 'block_size': [22, 10, 11], 'output_size': 1, 'layer': [{'shape': 22, 'inp_size': 1, 'weights': [[0.3102715015411377, 0.8252830505371094, 0.9863063097000122, -0.5512088537216187, -0.9002978801727295, 0.1267150491476059, 0.5905442237854004, -0.7129503488540649, -0.15824192762374878, -0.8044244050979614, 0.7734273076057434, -0.7758944630622864, -0.5615943670272827, 0.22784973680973053, -0.9146628975868225, 0.647312343120575, -0.11192326247692108, 1.0206042528152466, -0.2592158019542694, -0.17108263075351715, -0.2093081772327423, 0.8941172957420349]], 'biases': [-0.2511158585548401, 0.6405267715454102, -0.6146857142448425, 0.44008323550224304, -0.6126031875610352, -0.8302536606788635, -0.4775008261203766, 0.6836642026901245, -0.5833425521850586, 0.5298804640769958, 0.39615103602409363, 1.0321569442749023, 0.4839187562465668, 0.88736891746521, 0.9499324560165405, 0.888218879699707, 0.05242003872990608, -0.37574177980422974, 0.4093875586986542, 0.12226802855730057, 0.3908489942550659, 0.35889172554016113], 'layer_type': 'TensorflowDense', 'dtype': 'float32', 'activation': 'gelu', 'decorator_params': None}, {'shape': 10, 'inp_size': 22, 'weights': [[1.476047158241272, -0.12649887800216675, 0.20064100623130798, -0.4562487304210663, -0.14081068336963654, -0.937985897064209, 0.005012242589145899, -0.11462116241455078, 0.8753431439399719, -0.48336049914360046], [-0.5532761216163635, 0.7607188820838928, -0.9234326481819153, 0.5662992000579834, 0.6020947694778442, -0.9003601670265198, -0.0688977912068367, -0.0310564786195755, 0.7927646636962891, -0.1491585224866867], [0.6039097309112549, -1.303916096687317, -0.7676544189453125, 1.3270835876464844, 1.4780735969543457, 0.6201611161231995, -0.22226177155971527, -1.3027851581573486, 1.5053352117538452, 0.18962685763835907], [-1.0649327039718628, -0.041078321635723114, 0.28505927324295044, 0.3653522729873657, -0.3644176125526428, -0.8964747786521912, -0.5174697637557983, 0.07516299188137054, -0.2855451703071594, 0.9291309714317322], [0.8936734199523926, -0.553587019443512, 1.038065791130066, 0.527860701084137, 0.4444875717163086, 0.22622662782669067, -0.369972288608551, 0.6659625172615051, -0.4850199222564697, -0.9805966019630432], [0.4146970212459564, 0.5502752661705017, -0.2096969038248062, 0.12616026401519775, -0.6481993794441223, 0.5686566233634949, 0.7123419642448425, -0.6529707908630371, 0.1225658506155014, 0.48359349370002747], [0.22774086892604828, 0.23861299455165863, -1.134397029876709, 0.18717046082019806, 0.07154633104801178, 0.6446981430053711, 1.0933468341827393, -1.5657423734664917, 0.19757726788520813, -0.8949857354164124], [0.35709694027900696, 0.4781353771686554, -0.4805799126625061, 0.4707065522670746, -1.6867090463638306, -0.19072963297367096, 0.3371571898460388, 0.3764524459838867, 0.40586191415786743, 0.6568115949630737], [-0.480686217546463, -0.3199887275695801, 0.10019777715206146, -0.8065333366394043, -0.5554399490356445, -0.3728797733783722, -0.37184420228004456, -0.7089634537696838, 1.101482629776001, -0.511543869972229], [-0.5079669952392578, 0.9476860165596008, 0.9822171330451965, -0.1781449019908905, 0.15385735034942627, -0.502672016620636, 0.14276021718978882, -0.6375417709350586, 0.4620833098888397, 0.2224007248878479], [0.8554643392562866, -0.4225468635559082, 0.7422953844070435, -0.18744809925556183, 0.588217556476593, -0.5321545004844666, -0.16233040392398834, -1.0208686590194702, 0.8424972891807556, -0.49211418628692627], [0.08064394444227219, 0.36532583832740784, -0.10847644507884979, -0.31406399607658386, -1.0491693019866943, -0.2541167140007019, -0.6011480093002319, -0.20644405484199524, -0.9623003602027893, 0.009353235363960266], [-0.17469654977321625, 0.6089391708374023, 0.07723791152238846, -0.7057759761810303, -0.5831233859062195, -0.9989911913871765, 0.17743460834026337, -0.3084469139575958, -0.5809656381607056, -0.5906473398208618], [-0.5294011831283569, -0.35778769850730896, 0.6156484484672546, -0.4042661786079407, -0.6332325339317322, -0.07640090584754944, 0.13885056972503662, -0.21772773563861847, 0.0908011868596077, 0.02329171448945999], [-0.8963214159011841, -0.1049506813287735, 0.35923224687576294, -0.9472836256027222, -1.3753641843795776, 0.769192099571228, -0.02575494535267353, 0.6530550718307495, 0.4341704249382019, 0.5201966166496277], [0.2552543878555298, -0.42154791951179504, -0.021059656515717506, 0.0014394917525351048, -0.743619978427887, -0.5968163013458252, -0.11088122427463531, -0.01976616680622101, 0.7509649991989136, -0.1801256537437439], [-0.6799801588058472, 0.3244951367378235, -0.9867356419563293, 0.544827401638031, -0.16518498957157135, 0.19456638395786285, -0.6529213786125183, -0.47744861245155334, 0.6524256467819214, 0.17369811236858368], [-0.011623154394328594, -0.1065295934677124, 0.5820801258087158, 0.7084595561027527, 0.4359986484050751, -1.1289935111999512, 1.0237953662872314, -1.1488853693008423, 0.006181982345879078, -1.0398666858673096], [-0.18710526823997498, 0.5645865797996521, 0.019131777808070183, -0.03246967867016792, -0.5576468706130981, -0.48197126388549805, -0.7670847177505493, 0.9912163019180298, -0.21210454404354095, -0.733140766620636], [0.3249456286430359, 0.2487117201089859, 0.640938937664032, 0.7993414998054504, -0.200884610414505, 0.5331052541732788, -0.20783890783786774, 0.3555345833301544, 0.21359075605869293, -0.06455133855342865], [-0.6504415273666382, 0.7799212336540222, -0.8912575840950012, -0.5386669635772705, 0.12804670631885529, 0.19322116672992706, -0.8834894895553589, 0.9254446625709534, 0.6906080842018127, 0.7586186528205872], [0.19753333926200867, -0.6177406311035156, -0.1095232143998146, 0.2627056837081909, 0.10520531237125397, -0.34675031900405884, -0.07766982167959213, -0.09723560512065887, 0.8861163854598999, -0.2611285448074341]], 'biases': [-0.8602921962738037, 0.8518289923667908, 0.2303498536348343, 0.4148962199687958, -0.24956779181957245, 0.36342400312423706, -0.6216127872467041, -0.6713401675224304, -0.310622900724411, -0.31531208753585815], 'layer_type': 'TensorflowDense', 'dtype': 'float32', 'activation': 'softsign', 'decorator_params': None}, {'shape': 11, 'inp_size': 10, 'weights': [[0.22157321870326996, 0.20316414535045624, -0.3575138449668884, 0.42971566319465637, 0.7544215321540833, 0.6210625171661377, -0.3570635914802551, 0.11025989800691605, 0.5848044753074646, 0.3836205303668976, -0.01009216159582138], [0.5564755797386169, -0.49936309456825256, -0.41238558292388916, 0.1785530149936676, -0.08069159835577011, 0.24276240170001984, -0.43303972482681274, -0.75016188621521, 0.4330425560474396, 0.3380269706249237, -1.051356315612793], [-1.1093088388442993, 0.20020060241222382, -0.011402617208659649, -0.8564519286155701, 0.40126144886016846, -0.08510478585958481, -0.9706783294677734, -0.576830267906189, 0.9444665312767029, 0.5749816298484802, -0.20861640572547913], [-0.7653948664665222, 0.45961397886276245, -0.790033221244812, 0.8916196823120117, -0.5512962341308594, -0.8356550931930542, -0.55115807056427, 0.8684228658676147, -0.5806950926780701, 0.39024579524993896, 0.9644702672958374], [0.40495818853378296, -0.6273259520530701, 0.946940541267395, -0.6721241474151611, 0.6625804305076599, -0.18660381436347961, -0.02687063068151474, 0.11607436835765839, -0.2597389221191406, 0.28975871205329895, 0.6504431962966919], [-0.8439694046974182, 0.5685880780220032, 0.6459099054336548, 0.6320974826812744, -0.7050444483757019, 1.1903222799301147, -0.1414468139410019, -0.30303284525871277, 1.0449050664901733, -1.070229172706604, 0.407878577709198], [-0.17705011367797852, 1.1178587675094604, -0.35881802439689636, 0.45148536562919617, -0.5515345931053162, 0.779184103012085, -0.7437512278556824, -0.8457260727882385, -0.07307565212249756, 0.22617389261722565, 0.5287162661552429], [0.4445975124835968, 0.06231221929192543, -0.09690017998218536, 0.687938392162323, -0.45038527250289917, 0.886753261089325, 0.24977269768714905, 0.077961266040802, -0.6538653373718262, -0.44581493735313416, -0.9713723063468933], [-0.4889526665210724, 0.18221740424633026, 0.26683709025382996, -0.06420836597681046, -0.09697798639535904, -0.982134222984314, -0.5527128577232361, 0.07692272216081619, -0.16055794060230255, 0.5516532063484192, 0.3885097801685333], [-0.9974082112312317, 0.10751345008611679, 0.6254969835281372, 0.049194131046533585, -0.14727605879306793, -0.01875380054116249, -0.464790403842926, -1.0371818542480469, -0.7053563594818115, 0.0013010087423026562, -0.379607230424881]], 'biases': [0.010666828602552414, 0.6277092695236206, 0.8064539432525635, -0.5331510305404663, -0.6752386689186096, 0.21515198051929474, -0.05675670877099037, 0.23904849588871002, -0.6583690047264099, 0.4175024628639221, -0.0498284287750721], 'layer_type': 'TensorflowDense', 'dtype': 'float32', 'activation': 'elu', 'decorator_params': None}], 'out_layer': {'shape': 1, 'inp_size': 11, 'weights': [[0.01577068865299225], [-0.11740591377019882], [0.09159146249294281], [-0.19955183565616608], [0.07639942318201065], [0.7038997411727905], [0.016966581344604492], [0.2531436085700989], [-0.2013435810804367], [0.5529781579971313], [0.7164395451545715]], 'biases': [0.44704681634902954], 'layer_type': 'TensorflowDense', 'dtype': 'float32', 'activation': 'linear', 'decorator_params': None}}\n"
          ]
        }
      ]
    },
    {
      "cell_type": "markdown",
      "source": [
        "## Additional functionality"
      ],
      "metadata": {
        "id": "l7hFAEl7APFa"
      },
      "id": "l7hFAEl7APFa"
    },
    {
      "cell_type": "markdown",
      "source": [
        "### Bulding plots"
      ],
      "metadata": {
        "id": "bg7UfFEiAWyb"
      },
      "id": "bg7UfFEiAWyb"
    },
    {
      "cell_type": "code",
      "source": [
        "from degann.equations import build_plot"
      ],
      "metadata": {
        "id": "QPs_uzWNTo-F"
      },
      "id": "QPs_uzWNTo-F",
      "execution_count": 102,
      "outputs": []
    },
    {
      "cell_type": "code",
      "source": [
        "model_from_expert_system = IModel(1, [], 1)\n",
        "model_from_expert_system.from_dict(result_nn)  # restore model from dict\n",
        "\n",
        "indices = []\n",
        "for _ in range(30):\n",
        "    indices.append(randint(0, len(x_data) - 1))\n",
        "indices.sort()\n",
        "x_plot_data = x_data[indices, :]\n",
        "y_plot_data = y_data[indices, :]\n",
        "\n",
        "build_plot(\n",
        "    network=[model_from_expert_system, nn_1_32_16_8_1],  # list of models (or single model)\n",
        "    interval=(0, 1),  # from where to where to build a plot\n",
        "    step=0.02,  # step inside bounds\n",
        "    title=\"Approximation of parabola\",\n",
        "    labels=[\"expert nn\", \"[32_16_8] nn\", \"f(x) = 3*x^2\"],  # labels for plots. Last label for true values\n",
        "    true_data=[x_plot_data, y_plot_data]\n",
        ")"
      ],
      "metadata": {
        "colab": {
          "base_uri": "https://localhost:8080/",
          "height": 508
        },
        "id": "jWBfqz31BHzB",
        "outputId": "8aba630b-92d6-4601-b937-2b4cfa2c3638"
      },
      "id": "jWBfqz31BHzB",
      "execution_count": 103,
      "outputs": [
        {
          "output_type": "stream",
          "name": "stderr",
          "text": [
            "/usr/local/lib/python3.10/dist-packages/keras/src/layers/layer.py:361: UserWarning: `build()` was called on layer 'tensorflow_dense_net_16', however the layer does not have a `build()` method implemented and it looks like it has unbuilt state. This will cause the layer to be marked as built, despite not being actually built, which may cause failures down the line. Make sure to implement a proper `build()` method.\n",
            "  warnings.warn(\n"
          ]
        },
        {
          "output_type": "display_data",
          "data": {
            "text/plain": [
              "<Figure size 640x480 with 1 Axes>"
            ],
            "image/png": "[encoded data removed]"
          },
          "metadata": {}
        }
      ]
    },
    {
      "cell_type": "markdown",
      "source": [
        "### Bulding dataset tables for system of ODE"
      ],
      "metadata": {
        "id": "0mQuTX0qAcb7"
      },
      "id": "0mQuTX0qAcb7"
    },
    {
      "cell_type": "code",
      "source": [
        "from degann.equations import SystemODE, system_ode_from_string"
      ],
      "metadata": {
        "id": "C6a00-iOTsrE"
      },
      "id": "C6a00-iOTsrE",
      "execution_count": 104,
      "outputs": []
    },
    {
      "cell_type": "code",
      "source": [
        "str_sode = (\"y1*y2 y0(0)=0\\n\" +\n",
        "            \"-y0*y2 y1(0)=1\\n\" +\n",
        "            \"-0.5*y0*y1 y2(0)=1\")\n",
        "parsed = system_ode_from_string(str_sode)  # transform to list of strings\n",
        "sode = SystemODE()\n",
        "sode.prepare_equations(len(parsed), parsed)  # build functions for each equation\n",
        "sode.solve((0, 3), 10)  # solve SODE on the interval\n",
        "table = sode.build_table()\n",
        "x_ode_data = table[:, :1]\n",
        "y_ode_data = table[:, 1:]\n",
        "\n",
        "for feature, value in zip(x_ode_data, y_ode_data):\n",
        "    print(feature, value)"
      ],
      "metadata": {
        "colab": {
          "base_uri": "https://localhost:8080/"
        },
        "id": "yYU5kU5UICkd",
        "outputId": "72d12248-ca45-449e-ba34-3ad085019072"
      },
      "id": "yYU5kU5UICkd",
      "execution_count": 105,
      "outputs": [
        {
          "output_type": "stream",
          "name": "stdout",
          "text": [
            "[0.] [0. 1. 1.]\n",
            "[0.33333333] [0.32428015 0.94599178 0.97338437]\n",
            "[0.66666667] [0.60068655 0.7996556  0.90541175]\n",
            "[1.] [0.80328851 0.59592902 0.82314978]\n",
            "[1.33333333] [0.9302956  0.3673144  0.75326149]\n",
            "[1.66666667] [0.991337   0.1321536  0.71315044]\n",
            "[2.] [ 0.99464172 -0.10352993  0.71072471]\n",
            "[2.33333333] [ 0.94047783 -0.33840649  0.74599625]\n",
            "[2.66666667] [ 0.82184152 -0.56690918  0.81176232]\n",
            "[3.] [ 0.63002234 -0.77317201  0.89233784]\n"
          ]
        }
      ]
    },
    {
      "cell_type": "markdown",
      "source": [
        "### Bulding dataset tables for functions"
      ],
      "metadata": {
        "id": "-kYvkAi7Ahoa"
      },
      "id": "-kYvkAi7Ahoa"
    },
    {
      "cell_type": "code",
      "source": [
        "from degann.equations import equation_solve, str_eq_to_params"
      ],
      "metadata": {
        "id": "7LOpT20zTyNW"
      },
      "id": "7LOpT20zTyNW",
      "execution_count": 106,
      "outputs": []
    },
    {
      "cell_type": "code",
      "source": [
        "function = \"3*x+2*y+4*z\"\n",
        "bounds = {\n",
        "    \"x\": \"0, 2, 1\",  # x from 0 to 2 with step = 1\n",
        "    \"y\": \"0, 2, 2\",  # y from 0 to 2 with step = 2\n",
        "    \"z\": \"0, 0, 1\",  # z = 0\n",
        "}  # 6 points\n",
        "\n",
        "variables = str_eq_to_params(bounds)\n",
        "eq_table = equation_solve(function, variables)\n",
        "\n",
        "x_eq_data = eq_table[:, :-1]\n",
        "y_eq_data = eq_table[:, -1:]\n",
        "\n",
        "for feature, value in zip(x_eq_data, y_eq_data):\n",
        "    print(feature, value)"
      ],
      "metadata": {
        "colab": {
          "base_uri": "https://localhost:8080/"
        },
        "id": "yQX5K6ySRfy0",
        "outputId": "cb41ae0f-4379-48b1-c908-2ca432391288"
      },
      "id": "yQX5K6ySRfy0",
      "execution_count": 107,
      "outputs": [
        {
          "output_type": "stream",
          "name": "stdout",
          "text": [
            "[0. 0. 0.] [0.]\n",
            "[1. 0. 0.] [3.]\n",
            "[2. 0. 0.] [6.]\n",
            "[0. 2. 0.] [4.]\n",
            "[1. 2. 0.] [7.]\n",
            "[2. 2. 0.] [10.]\n"
          ]
        }
      ]
    }
  ],
  "metadata": {
    "kernelspec": {
      "display_name": "Python 3 (ipykernel)",
      "language": "python",
      "name": "python3"
    },
    "language_info": {
      "codemirror_mode": {
        "name": "ipython",
        "version": 3
      },
      "file_extension": ".py",
      "mimetype": "text/x-python",
      "name": "python",
      "nbconvert_exporter": "python",
      "pygments_lexer": "ipython3",
      "version": "3.12.0"
    },
    "colab": {
      "provenance": [],
      "toc_visible": true
    }
  },
  "nbformat": 4,
  "nbformat_minor": 5
}
